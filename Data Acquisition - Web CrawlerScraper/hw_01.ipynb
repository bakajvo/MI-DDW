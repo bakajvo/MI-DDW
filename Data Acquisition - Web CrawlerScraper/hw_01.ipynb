{
 "cells": [
  {
   "cell_type": "code",
   "execution_count": 1,
   "metadata": {},
   "outputs": [],
   "source": [
    "import requests\n",
    "from bs4 import BeautifulSoup\n",
    "from time import sleep\n",
    "import json\n",
    "import logging"
   ]
  },
  {
   "cell_type": "code",
   "execution_count": 2,
   "metadata": {},
   "outputs": [],
   "source": [
    "logging.getLogger(\"urllib3\").setLevel(logging.WARNING)"
   ]
  },
  {
   "cell_type": "code",
   "execution_count": 3,
   "metadata": {},
   "outputs": [],
   "source": [
    "headers = {\n",
    "    \"User-Agent\": \"Mozilla/5.0 (Windows NT 10.0; Win64; x64) AppleWebKit/537.36 (KHTML, like Gecko) Chrome/64.0.3282.186 Safari/537.36\",\n",
    "    \"Content-Type\": \"text/plain;charset=UTF-8\",\n",
    "    \"Accept-Encoding\": \"gzip, deflate, br\",\n",
    "    \"Accept-Language\": \"cs-CZ,cs;q=0.9,en;q=0.8,sk;q=0.7\"\n",
    "}"
   ]
  },
  {
   "cell_type": "code",
   "execution_count": 4,
   "metadata": {},
   "outputs": [],
   "source": [
    "data = []"
   ]
  },
  {
   "cell_type": "code",
   "execution_count": 5,
   "metadata": {},
   "outputs": [],
   "source": [
    "def parseArticle(soup, href):\n",
    "    title = soup.find(\"h1\").text\n",
    "    author = soup.find(\"div\", {\"rel\":\"rnews:creator schema:creator\"}).find(\"a\").text\n",
    "    published = soup.find(\"meta\", {\"itemprop\":\"datePublished\"})[\"content\"]\n",
    "    modified = soup.find(\"meta\", {\"itemprop\":\"dateModified\"})[\"content\"]\n",
    "    score = soup.find(\"section\", {\"class\":\"field field-name-field-readability-score field-type-list-float field-label-inline clearfix view-mode-_custom_display\"}).find(\"div\", {\"class\":\"field-item even\"}).text.strip()\n",
    "\n",
    "    item = {\n",
    "        'title': title,\n",
    "        'author': author,\n",
    "        'link': href,\n",
    "        'published': published,\n",
    "        'modified': modified,\n",
    "        'score': score\n",
    "    }\n",
    "    \n",
    "    #print(item)\n",
    "    \n",
    "    data.append(item)"
   ]
  },
  {
   "cell_type": "code",
   "execution_count": 6,
   "metadata": {},
   "outputs": [],
   "source": [
    "def crawler(seed):\n",
    "    frontier=[seed]\n",
    "    crawled=[]\n",
    "    while frontier:\n",
    "        page=frontier.pop()\n",
    "        try:\n",
    "            if page not in crawled:\n",
    "                print(page)\n",
    "                sleep(1)\n",
    "                source = requests.get(page).text\n",
    "                soup=BeautifulSoup(source, \"html5lib\")\n",
    "                if '/article/' in page:\n",
    "                    parseArticle(soup, page)\n",
    "                links=soup.findAll('a',href=True)\n",
    "                for link in links:\n",
    "                    new_link = link['href']\n",
    "                    if(new_link.startswith(seed)):\n",
    "                        frontier.append(new_link)\n",
    "                crawled.append(page)\n",
    " \n",
    "        except Exception as e:\n",
    "            print(e)\n",
    "    return crawled"
   ]
  },
  {
   "cell_type": "code",
   "execution_count": null,
   "metadata": {
    "scrolled": false
   },
   "outputs": [],
   "source": [
    "crawler(\"https://www.sciencenewsforstudents.org/\")"
   ]
  },
  {
   "cell_type": "code",
   "execution_count": 7,
   "metadata": {},
   "outputs": [
    {
     "data": {
      "text/plain": [
       "[]"
      ]
     },
     "execution_count": 7,
     "metadata": {},
     "output_type": "execute_result"
    }
   ],
   "source": [
    "data"
   ]
  },
  {
   "cell_type": "code",
   "execution_count": null,
   "metadata": {},
   "outputs": [],
   "source": [
    "with open('out.json', 'w') as outfile:\n",
    "    json.dump(data, outfile)"
   ]
  }
 ],
 "metadata": {
  "kernelspec": {
   "display_name": "Python 3",
   "language": "python",
   "name": "python3"
  },
  "language_info": {
   "codemirror_mode": {
    "name": "ipython",
    "version": 3
   },
   "file_extension": ".py",
   "mimetype": "text/x-python",
   "name": "python",
   "nbconvert_exporter": "python",
   "pygments_lexer": "ipython3",
   "version": "3.6.4"
  }
 },
 "nbformat": 4,
 "nbformat_minor": 2
}
