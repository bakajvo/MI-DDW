{
 "cells": [
  {
   "cell_type": "code",
   "execution_count": 1,
   "metadata": {},
   "outputs": [],
   "source": [
    "from sklearn.metrics.pairwise import cosine_similarity\n",
    "from sklearn.metrics.pairwise import euclidean_distances\n",
    "from sklearn.feature_extraction.text import TfidfVectorizer\n",
    "from sklearn.feature_extraction.text import CountVectorizer\n",
    "import numpy as np\n",
    "import pandas as pd"
   ]
  },
  {
   "cell_type": "code",
   "execution_count": 2,
   "metadata": {},
   "outputs": [],
   "source": [
    "documents = []\n",
    "queries = []\n",
    "relevances = []\n",
    "\n",
    "for d in range(1400):\n",
    "    f = open(\"./d/\"+str(d+1)+\".txt\")\n",
    "    documents.append(f.read())\n",
    "\n",
    "for q in range(225):\n",
    "    f = open(\"./q/\"+str(q+1)+\".txt\")\n",
    "    queries.append(f.read())\n",
    "    \n",
    "for r in range(225):\n",
    "    f = open(\"./r/\"+str(r+1)+\".txt\")\n",
    "    relevances.append(f.read().split(\"\\n\"))"
   ]
  },
  {
   "cell_type": "code",
   "execution_count": 3,
   "metadata": {},
   "outputs": [],
   "source": [
    "for i in range(225):\n",
    "    del relevances[i][-1]\n",
    "    relevances[i] = [int(x) for x in relevances[i]]"
   ]
  },
  {
   "cell_type": "code",
   "execution_count": 4,
   "metadata": {},
   "outputs": [],
   "source": [
    "def calc_cos_relevant(queries, documents):\n",
    "    result = []\n",
    "    for i in range(225):\n",
    "        sim = np.array(cosine_similarity(tfidf_queries_matrix[i], tfidf_documents_matrix)[0])\n",
    "        topRelevant = sim.argsort()[-10:][::-1]+1\n",
    "        result.append(topRelevant)\n",
    "    return result\n",
    "\n",
    "def calc_euc_relevant(queries, documents):\n",
    "    result = []\n",
    "    for i in range(225):\n",
    "        sim = np.array(euclidean_distances(tfidf_queries_matrix[i], tfidf_documents_matrix)[0])\n",
    "        topRelevant = sim.argsort()[:10][::-1]+1\n",
    "        result.append(topRelevant)\n",
    "    return result"
   ]
  },
  {
   "cell_type": "code",
   "execution_count": 5,
   "metadata": {},
   "outputs": [],
   "source": [
    "def evaluate_results(relevances, possible_relevances):\n",
    "    tp, fp, tn, fn = 0, 0, 0, 0\n",
    "    for i in range(1400):\n",
    "        if i in relevances and i in possible_relevances:\n",
    "            tp += 1\n",
    "        if i not in relevances and i in possible_relevances:\n",
    "            fn += 1\n",
    "        if i in relevances and i not in possible_relevances:\n",
    "            fp += 1\n",
    "        if i not in relevances and i not in possible_relevances:\n",
    "            tn += 1\n",
    "    return {'tp':tp, 'fp':fp,'tn':tn, 'fn':fn }"
   ]
  },
  {
   "cell_type": "code",
   "execution_count": 6,
   "metadata": {},
   "outputs": [],
   "source": [
    "def measure(results):\n",
    "    precision = results['tp']/(results['tp']+results['fp'])\n",
    "    recall = results['tp']/(results['tp']+results['fn'])\n",
    "    if precision+recall != 0: \n",
    "        f = 2*(precision*recall)/(precision+recall)\n",
    "    else:\n",
    "        f = np.nan\n",
    "    return {'precision':precision, 'recall':recall,'f':f }"
   ]
  },
  {
   "cell_type": "code",
   "execution_count": 7,
   "metadata": {},
   "outputs": [],
   "source": [
    "def average_measure_on_all_queries(relevances, possible_relevances):\n",
    "    result = {'precision':0, 'recall':0, 'f':0 }\n",
    "    counter = 0\n",
    "    for i in range(225):\n",
    "        tmp = measure(evaluate_results(relevances[i], my_relevances[i]))\n",
    "        result['precision'] += tmp['precision']\n",
    "        result['recall'] += tmp['recall']\n",
    "        if not np.isnan(tmp['f']):\n",
    "            result['f'] += tmp['f']\n",
    "        else:\n",
    "            counter += 1\n",
    "    return {'precision':result['precision']/225, 'recall':result['recall']/225, 'f':result['f']/(225-counter) }"
   ]
  },
  {
   "cell_type": "code",
   "execution_count": 8,
   "metadata": {},
   "outputs": [],
   "source": [
    "result = []"
   ]
  },
  {
   "cell_type": "markdown",
   "metadata": {},
   "source": [
    "# TF-IDF Cosine similarity"
   ]
  },
  {
   "cell_type": "code",
   "execution_count": 9,
   "metadata": {},
   "outputs": [],
   "source": [
    "tfidf_vectorizer = TfidfVectorizer()\n",
    "tfidf_documents_matrix = tfidf_vectorizer.fit_transform(documents)\n",
    "tfidf_queries_matrix = tfidf_vectorizer.transform(queries)\n",
    "my_relevances = calc_cos_relevant(tfidf_queries_matrix, tfidf_documents_matrix)\n",
    "r = average_measure_on_all_queries(relevances, my_relevances)\n",
    "r['alg'] = \"TF-IDF Cosine similarity\"\n",
    "result.append(r)"
   ]
  },
  {
   "cell_type": "markdown",
   "metadata": {},
   "source": [
    "# TF-IDF Euclidean distance"
   ]
  },
  {
   "cell_type": "code",
   "execution_count": 10,
   "metadata": {},
   "outputs": [],
   "source": [
    "tfidf_vectorizer = TfidfVectorizer()\n",
    "tfidf_documents_matrix = tfidf_vectorizer.fit_transform(documents)\n",
    "tfidf_queries_matrix = tfidf_vectorizer.transform(queries)\n",
    "my_relevances = calc_euc_relevant(tfidf_queries_matrix, tfidf_documents_matrix)\n",
    "r = average_measure_on_all_queries(relevances, my_relevances)\n",
    "r['alg'] = \"TF-IDF Euclidean distance\"\n",
    "result.append(r)"
   ]
  },
  {
   "cell_type": "markdown",
   "metadata": {},
   "source": [
    "# Pure Term Frequency Cosine similarity"
   ]
  },
  {
   "cell_type": "code",
   "execution_count": 11,
   "metadata": {},
   "outputs": [],
   "source": [
    "count_vectorizer = CountVectorizer()\n",
    "count_documents_matrix = count_vectorizer.fit_transform(documents)\n",
    "count_queries_matrix = count_vectorizer.transform(queries)\n",
    "my_relevances = calc_cos_relevant(count_queries_matrix, count_documents_matrix)\n",
    "r = average_measure_on_all_queries(relevances, my_relevances)\n",
    "r['alg'] = \"Pure Term Frequency Cosine similarity\"\n",
    "result.append(r)"
   ]
  },
  {
   "cell_type": "markdown",
   "metadata": {},
   "source": [
    "# Pure Term Frequency Euclidean distance"
   ]
  },
  {
   "cell_type": "code",
   "execution_count": 12,
   "metadata": {},
   "outputs": [],
   "source": [
    "tfidf_vectorizer = CountVectorizer()\n",
    "tfidf_documents_matrix = tfidf_vectorizer.fit_transform(documents)\n",
    "tfidf_queries_matrix = tfidf_vectorizer.transform(queries)\n",
    "my_relevances = calc_euc_relevant(tfidf_queries_matrix, tfidf_documents_matrix)\n",
    "r = average_measure_on_all_queries(relevances, my_relevances)\n",
    "r['alg'] = \"Pure Term Frequency Euclidean distance\"\n",
    "result.append(r)"
   ]
  },
  {
   "cell_type": "markdown",
   "metadata": {},
   "source": [
    "# Binary representation Cosine similarity"
   ]
  },
  {
   "cell_type": "code",
   "execution_count": 13,
   "metadata": {},
   "outputs": [],
   "source": [
    "count_vectorizer = CountVectorizer(binary = True)\n",
    "count_documents_matrix = count_vectorizer.fit_transform(documents)\n",
    "count_queries_matrix = count_vectorizer.transform(queries)\n",
    "my_relevances = calc_cos_relevant(count_queries_matrix, count_documents_matrix)\n",
    "r = average_measure_on_all_queries(relevances, my_relevances)\n",
    "r['alg'] = \"Binary representation Cosine similarity\"\n",
    "result.append(r)"
   ]
  },
  {
   "cell_type": "markdown",
   "metadata": {},
   "source": [
    "# Binary representation Euclidean distance"
   ]
  },
  {
   "cell_type": "code",
   "execution_count": 14,
   "metadata": {},
   "outputs": [],
   "source": [
    "tfidf_vectorizer = CountVectorizer(binary = True)\n",
    "tfidf_documents_matrix = tfidf_vectorizer.fit_transform(documents)\n",
    "tfidf_queries_matrix = tfidf_vectorizer.transform(queries)\n",
    "my_relevances = calc_euc_relevant(tfidf_queries_matrix, tfidf_documents_matrix)\n",
    "r = average_measure_on_all_queries(relevances, my_relevances)\n",
    "r['alg'] = \"Binary representation Euclidean distance\"\n",
    "result.append(r)"
   ]
  },
  {
   "cell_type": "markdown",
   "metadata": {},
   "source": [
    "# Summary"
   ]
  },
  {
   "cell_type": "code",
   "execution_count": 15,
   "metadata": {},
   "outputs": [
    {
     "data": {
      "text/html": [
       "<div>\n",
       "<style scoped>\n",
       "    .dataframe tbody tr th:only-of-type {\n",
       "        vertical-align: middle;\n",
       "    }\n",
       "\n",
       "    .dataframe tbody tr th {\n",
       "        vertical-align: top;\n",
       "    }\n",
       "\n",
       "    .dataframe thead th {\n",
       "        text-align: right;\n",
       "    }\n",
       "</style>\n",
       "<table border=\"1\" class=\"dataframe\">\n",
       "  <thead>\n",
       "    <tr style=\"text-align: right;\">\n",
       "      <th></th>\n",
       "      <th>alg</th>\n",
       "      <th>f</th>\n",
       "      <th>precision</th>\n",
       "      <th>recall</th>\n",
       "    </tr>\n",
       "  </thead>\n",
       "  <tbody>\n",
       "    <tr>\n",
       "      <th>0</th>\n",
       "      <td>TF-IDF Cosine similarity</td>\n",
       "      <td>0.311172</td>\n",
       "      <td>0.348287</td>\n",
       "      <td>0.241086</td>\n",
       "    </tr>\n",
       "    <tr>\n",
       "      <th>1</th>\n",
       "      <td>TF-IDF Euclidean distance</td>\n",
       "      <td>0.289466</td>\n",
       "      <td>0.321927</td>\n",
       "      <td>0.219556</td>\n",
       "    </tr>\n",
       "    <tr>\n",
       "      <th>2</th>\n",
       "      <td>Pure Term Frequency Cosine similarity</td>\n",
       "      <td>0.311172</td>\n",
       "      <td>0.348287</td>\n",
       "      <td>0.241086</td>\n",
       "    </tr>\n",
       "    <tr>\n",
       "      <th>3</th>\n",
       "      <td>Pure Term Frequency Euclidean distance</td>\n",
       "      <td>0.109029</td>\n",
       "      <td>0.015910</td>\n",
       "      <td>0.012000</td>\n",
       "    </tr>\n",
       "    <tr>\n",
       "      <th>4</th>\n",
       "      <td>Binary representation Cosine similarity</td>\n",
       "      <td>0.217311</td>\n",
       "      <td>0.177538</td>\n",
       "      <td>0.128593</td>\n",
       "    </tr>\n",
       "    <tr>\n",
       "      <th>5</th>\n",
       "      <td>Binary representation Euclidean distance</td>\n",
       "      <td>0.125864</td>\n",
       "      <td>0.021538</td>\n",
       "      <td>0.015111</td>\n",
       "    </tr>\n",
       "  </tbody>\n",
       "</table>\n",
       "</div>"
      ],
      "text/plain": [
       "                                        alg         f  precision    recall\n",
       "0                  TF-IDF Cosine similarity  0.311172   0.348287  0.241086\n",
       "1                 TF-IDF Euclidean distance  0.289466   0.321927  0.219556\n",
       "2     Pure Term Frequency Cosine similarity  0.311172   0.348287  0.241086\n",
       "3    Pure Term Frequency Euclidean distance  0.109029   0.015910  0.012000\n",
       "4   Binary representation Cosine similarity  0.217311   0.177538  0.128593\n",
       "5  Binary representation Euclidean distance  0.125864   0.021538  0.015111"
      ]
     },
     "execution_count": 15,
     "metadata": {},
     "output_type": "execute_result"
    }
   ],
   "source": [
    "pd.DataFrame(result)"
   ]
  }
 ],
 "metadata": {
  "kernelspec": {
   "display_name": "Python 3",
   "language": "python",
   "name": "python3"
  },
  "language_info": {
   "codemirror_mode": {
    "name": "ipython",
    "version": 3
   },
   "file_extension": ".py",
   "mimetype": "text/x-python",
   "name": "python",
   "nbconvert_exporter": "python",
   "pygments_lexer": "ipython3",
   "version": "3.6.4"
  }
 },
 "nbformat": 4,
 "nbformat_minor": 2
}
